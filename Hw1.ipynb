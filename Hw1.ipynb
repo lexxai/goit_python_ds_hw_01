{
  "nbformat": 4,
  "nbformat_minor": 0,
  "metadata": {
    "colab": {
      "provenance": [],
      "authorship_tag": "ABX9TyNi0qs0cJOgYEd5FtJ51l2R",
      "include_colab_link": true
    },
    "kernelspec": {
      "name": "python3",
      "display_name": "Python 3"
    },
    "language_info": {
      "name": "python"
    }
  },
  "cells": [
    {
      "cell_type": "markdown",
      "metadata": {
        "id": "view-in-github",
        "colab_type": "text"
      },
      "source": [
        "<a href=\"https://colab.research.google.com/github/lexxai/goit_python_ds_hw_01/blob/main/Hw1.ipynb\" target=\"_parent\"><img src=\"https://colab.research.google.com/assets/colab-badge.svg\" alt=\"Open In Colab\"/></a>"
      ]
    },
    {
      "cell_type": "code",
      "execution_count": 9,
      "metadata": {
        "id": "9NZwAeL35Pko"
      },
      "outputs": [],
      "source": [
        "import numpy as np"
      ]
    },
    {
      "cell_type": "markdown",
      "source": [
        "# Task 1"
      ],
      "metadata": {
        "id": "FXCHraFqE2Lt"
      }
    },
    {
      "cell_type": "code",
      "source": [
        "task1 = np.array([0,1,2,3,4,5,6,7,8,9])\n",
        "print(f\"{task1=}\")\n",
        "task1_1 = np.arange(0,10)\n",
        "print(f\"{task1_1=}\")\n",
        "task1_2 = np.linspace(0,9,num=10, dtype=int)\n",
        "print(f\"{task1_2=}\")"
      ],
      "metadata": {
        "colab": {
          "base_uri": "https://localhost:8080/"
        },
        "id": "ChcGW4s_9Fkv",
        "outputId": "3f6629ff-3c61-4608-c97e-1b0471fcd697"
      },
      "execution_count": 10,
      "outputs": [
        {
          "output_type": "stream",
          "name": "stdout",
          "text": [
            "task1=array([0, 1, 2, 3, 4, 5, 6, 7, 8, 9])\n",
            "task1_1=array([0, 1, 2, 3, 4, 5, 6, 7, 8, 9])\n",
            "task1_2=array([0, 1, 2, 3, 4, 5, 6, 7, 8, 9])\n"
          ]
        }
      ]
    },
    {
      "cell_type": "markdown",
      "source": [
        "# Task 2"
      ],
      "metadata": {
        "id": "6L9J6QRoE6LX"
      }
    },
    {
      "cell_type": "code",
      "source": [
        "task2 = np.zeros((3,3))\n",
        "task2"
      ],
      "metadata": {
        "colab": {
          "base_uri": "https://localhost:8080/"
        },
        "id": "glrrK0lr9pMS",
        "outputId": "7f0c1095-d105-42b9-c3f6-64ce83ad307d"
      },
      "execution_count": 11,
      "outputs": [
        {
          "output_type": "execute_result",
          "data": {
            "text/plain": [
              "array([[0., 0., 0.],\n",
              "       [0., 0., 0.],\n",
              "       [0., 0., 0.]])"
            ]
          },
          "metadata": {},
          "execution_count": 11
        }
      ]
    },
    {
      "cell_type": "code",
      "source": [
        "task2_1 = np.zeros(9).reshape(3,3)\n",
        "task2_1"
      ],
      "metadata": {
        "colab": {
          "base_uri": "https://localhost:8080/"
        },
        "id": "gp7b7kL5_7dK",
        "outputId": "f9d10219-1618-49da-b95e-fb000bb895c4"
      },
      "execution_count": 12,
      "outputs": [
        {
          "output_type": "execute_result",
          "data": {
            "text/plain": [
              "array([[0., 0., 0.],\n",
              "       [0., 0., 0.],\n",
              "       [0., 0., 0.]])"
            ]
          },
          "metadata": {},
          "execution_count": 12
        }
      ]
    },
    {
      "cell_type": "markdown",
      "source": [
        "# Task 3"
      ],
      "metadata": {
        "id": "oW5VPAEJE-CD"
      }
    },
    {
      "cell_type": "code",
      "source": [
        "task3 = np.random.randint(1, 10+1, size=(5,5))\n",
        "task3"
      ],
      "metadata": {
        "colab": {
          "base_uri": "https://localhost:8080/"
        },
        "id": "iKWKOsIk92kv",
        "outputId": "7a47eafc-5291-4299-8d28-83606c9db1b9"
      },
      "execution_count": 13,
      "outputs": [
        {
          "output_type": "execute_result",
          "data": {
            "text/plain": [
              "array([[ 1,  9,  7,  5,  4],\n",
              "       [ 2,  3,  9,  9, 10],\n",
              "       [ 3,  7,  5,  5,  9],\n",
              "       [ 2,  9,  6,  1,  2],\n",
              "       [ 9,  7,  8,  9,  7]])"
            ]
          },
          "metadata": {},
          "execution_count": 13
        }
      ]
    },
    {
      "cell_type": "markdown",
      "source": [
        "# Task 4"
      ],
      "metadata": {
        "id": "KbNibhgKE_g9"
      }
    },
    {
      "cell_type": "code",
      "source": [
        "task4 = np.random.random((4,4))\n",
        "task4"
      ],
      "metadata": {
        "colab": {
          "base_uri": "https://localhost:8080/"
        },
        "id": "Yqa0fKmWB6HS",
        "outputId": "285db39a-89ab-4536-e9ad-f96252ad543b"
      },
      "execution_count": 14,
      "outputs": [
        {
          "output_type": "execute_result",
          "data": {
            "text/plain": [
              "array([[0.80641245, 0.49089118, 0.74818276, 0.75551154],\n",
              "       [0.78260105, 0.68680224, 0.65618161, 0.06385118],\n",
              "       [0.49535224, 0.04190866, 0.46195517, 0.83751217],\n",
              "       [0.07449768, 0.50401704, 0.21043821, 0.51855612]])"
            ]
          },
          "metadata": {},
          "execution_count": 14
        }
      ]
    },
    {
      "cell_type": "markdown",
      "source": [
        "# Task 5"
      ],
      "metadata": {
        "id": "pOuCdxP7DXMx"
      }
    },
    {
      "cell_type": "code",
      "source": [
        "task5_1 = np.random.random(5)\n",
        "task5_1"
      ],
      "metadata": {
        "colab": {
          "base_uri": "https://localhost:8080/"
        },
        "id": "ZBRLV2dBCvPv",
        "outputId": "84b37b01-7eb2-49ff-902d-52a851d94d31"
      },
      "execution_count": 15,
      "outputs": [
        {
          "output_type": "execute_result",
          "data": {
            "text/plain": [
              "array([0.60108428, 0.67404279, 0.33221513, 0.8700326 , 0.97222687])"
            ]
          },
          "metadata": {},
          "execution_count": 15
        }
      ]
    },
    {
      "cell_type": "code",
      "source": [
        "task5_2 = np.random.random(5)\n",
        "task5_2"
      ],
      "metadata": {
        "colab": {
          "base_uri": "https://localhost:8080/"
        },
        "id": "dOSppmR4DdFM",
        "outputId": "b91bb9ed-39e8-4a15-f29b-f75f806feed5"
      },
      "execution_count": 16,
      "outputs": [
        {
          "output_type": "execute_result",
          "data": {
            "text/plain": [
              "array([0.89619977, 0.03382864, 0.15509794, 0.05274371, 0.46814147])"
            ]
          },
          "metadata": {},
          "execution_count": 16
        }
      ]
    },
    {
      "cell_type": "code",
      "source": [
        "task5_1 + task5_2"
      ],
      "metadata": {
        "colab": {
          "base_uri": "https://localhost:8080/"
        },
        "id": "njVxu333DjD5",
        "outputId": "44aa1e43-36b3-4e26-b80c-6364577628d3"
      },
      "execution_count": 17,
      "outputs": [
        {
          "output_type": "execute_result",
          "data": {
            "text/plain": [
              "array([1.49728405, 0.70787143, 0.48731307, 0.92277631, 1.44036834])"
            ]
          },
          "metadata": {},
          "execution_count": 17
        }
      ]
    },
    {
      "cell_type": "code",
      "source": [
        "task5_1 - task5_2"
      ],
      "metadata": {
        "colab": {
          "base_uri": "https://localhost:8080/"
        },
        "id": "eile5mKNDn9Q",
        "outputId": "d72fde81-dff9-4f76-9621-30405aab7d69"
      },
      "execution_count": 18,
      "outputs": [
        {
          "output_type": "execute_result",
          "data": {
            "text/plain": [
              "array([-0.29511549,  0.64021415,  0.17711719,  0.81728888,  0.50408539])"
            ]
          },
          "metadata": {},
          "execution_count": 18
        }
      ]
    },
    {
      "cell_type": "code",
      "source": [
        "task5_1 * task5_2"
      ],
      "metadata": {
        "colab": {
          "base_uri": "https://localhost:8080/"
        },
        "id": "Xclqb0vNDq4Z",
        "outputId": "e84cfae3-e0e7-427f-ffc2-ad3383870e37"
      },
      "execution_count": 19,
      "outputs": [
        {
          "output_type": "execute_result",
          "data": {
            "text/plain": [
              "array([0.5386916 , 0.02280195, 0.05152588, 0.04588875, 0.45513972])"
            ]
          },
          "metadata": {},
          "execution_count": 19
        }
      ]
    },
    {
      "cell_type": "markdown",
      "source": [
        "# Task 6"
      ],
      "metadata": {
        "id": "pGWq5yn9D4Gi"
      }
    },
    {
      "cell_type": "code",
      "source": [
        "task6_1 = np.array([55,66,54,0,88,67,-89])\n",
        "print(task6_1.shape)\n",
        "task6_1\n"
      ],
      "metadata": {
        "colab": {
          "base_uri": "https://localhost:8080/"
        },
        "id": "irfPkCbPD66f",
        "outputId": "3f83e86a-b420-4adb-c16e-827b5e2b6cd5"
      },
      "execution_count": 20,
      "outputs": [
        {
          "output_type": "stream",
          "name": "stdout",
          "text": [
            "(7,)\n"
          ]
        },
        {
          "output_type": "execute_result",
          "data": {
            "text/plain": [
              "array([ 55,  66,  54,   0,  88,  67, -89])"
            ]
          },
          "metadata": {},
          "execution_count": 20
        }
      ]
    },
    {
      "cell_type": "code",
      "source": [
        "task6_2 = np.array([33,22,11,16,67,82,9])\n",
        "print(task6_2.shape)\n",
        "task6_2\n"
      ],
      "metadata": {
        "colab": {
          "base_uri": "https://localhost:8080/"
        },
        "id": "9-pFPcOsEqgN",
        "outputId": "12369c7f-5659-4a19-fece-7a2ae6a571df"
      },
      "execution_count": 21,
      "outputs": [
        {
          "output_type": "stream",
          "name": "stdout",
          "text": [
            "(7,)\n"
          ]
        },
        {
          "output_type": "execute_result",
          "data": {
            "text/plain": [
              "array([33, 22, 11, 16, 67, 82,  9])"
            ]
          },
          "metadata": {},
          "execution_count": 21
        }
      ]
    },
    {
      "cell_type": "code",
      "source": [
        "np.dot(task6_1, task6_2)"
      ],
      "metadata": {
        "colab": {
          "base_uri": "https://localhost:8080/"
        },
        "id": "qfhAMB72Ez_F",
        "outputId": "682d0d74-1890-4d70-c918-0e941b08f865"
      },
      "execution_count": 22,
      "outputs": [
        {
          "output_type": "execute_result",
          "data": {
            "text/plain": [
              "14450"
            ]
          },
          "metadata": {},
          "execution_count": 22
        }
      ]
    },
    {
      "cell_type": "code",
      "source": [
        "np.sum(task6_1*task6_2)"
      ],
      "metadata": {
        "colab": {
          "base_uri": "https://localhost:8080/"
        },
        "id": "F09O1UwVFykF",
        "outputId": "210481f1-b9b4-4dbc-f682-f57c31f8d25e"
      },
      "execution_count": 23,
      "outputs": [
        {
          "output_type": "execute_result",
          "data": {
            "text/plain": [
              "14450"
            ]
          },
          "metadata": {},
          "execution_count": 23
        }
      ]
    },
    {
      "cell_type": "markdown",
      "source": [
        "# Task 7"
      ],
      "metadata": {
        "id": "vi6SHERmFhoS"
      }
    },
    {
      "cell_type": "code",
      "source": [
        "task7_1 = np.random.randint(1,10+1,size=(2,2))\n",
        "task7_1"
      ],
      "metadata": {
        "colab": {
          "base_uri": "https://localhost:8080/"
        },
        "id": "R3eCtq91FlAb",
        "outputId": "cca62787-c20d-4ac1-efdc-a8390a142d6d"
      },
      "execution_count": 24,
      "outputs": [
        {
          "output_type": "execute_result",
          "data": {
            "text/plain": [
              "array([[ 6,  5],\n",
              "       [ 4, 10]])"
            ]
          },
          "metadata": {},
          "execution_count": 24
        }
      ]
    },
    {
      "cell_type": "code",
      "source": [
        "task7_2 = np.random.randint(1,10+1,size=(2,3))\n",
        "task7_2"
      ],
      "metadata": {
        "colab": {
          "base_uri": "https://localhost:8080/"
        },
        "id": "nPXWwqdgHrux",
        "outputId": "b52eb020-007d-43e5-96f5-131e6fb9d225"
      },
      "execution_count": 25,
      "outputs": [
        {
          "output_type": "execute_result",
          "data": {
            "text/plain": [
              "array([[6, 5, 4],\n",
              "       [8, 6, 4]])"
            ]
          },
          "metadata": {},
          "execution_count": 25
        }
      ]
    },
    {
      "cell_type": "code",
      "source": [
        "np.dot(task7_1,task7_2)"
      ],
      "metadata": {
        "colab": {
          "base_uri": "https://localhost:8080/"
        },
        "id": "ZonnAKSfHyKe",
        "outputId": "1d7cdf36-3547-497b-ac9d-e008932f2e47"
      },
      "execution_count": 26,
      "outputs": [
        {
          "output_type": "execute_result",
          "data": {
            "text/plain": [
              "array([[ 76,  60,  44],\n",
              "       [104,  80,  56]])"
            ]
          },
          "metadata": {},
          "execution_count": 26
        }
      ]
    },
    {
      "cell_type": "markdown",
      "source": [
        "# Task 8"
      ],
      "metadata": {
        "id": "1KRh7BpRIRWq"
      }
    },
    {
      "cell_type": "code",
      "source": [
        "task8_1 = np.random.randint(1,10+1,size=(3,3))\n",
        "task8_1"
      ],
      "metadata": {
        "colab": {
          "base_uri": "https://localhost:8080/"
        },
        "id": "4od2TRagITIm",
        "outputId": "b098292c-171a-40af-bdd6-ba10e1b3ac6a"
      },
      "execution_count": 27,
      "outputs": [
        {
          "output_type": "execute_result",
          "data": {
            "text/plain": [
              "array([[ 4,  5,  7],\n",
              "       [10,  2,  2],\n",
              "       [ 1,  5, 10]])"
            ]
          },
          "metadata": {},
          "execution_count": 27
        }
      ]
    },
    {
      "cell_type": "code",
      "source": [
        "task8_1.T"
      ],
      "metadata": {
        "colab": {
          "base_uri": "https://localhost:8080/"
        },
        "id": "0LJZzXQIIkQB",
        "outputId": "e8a1867b-0d99-4b14-dbc7-8742ff43af28"
      },
      "execution_count": 28,
      "outputs": [
        {
          "output_type": "execute_result",
          "data": {
            "text/plain": [
              "array([[ 4, 10,  1],\n",
              "       [ 5,  2,  5],\n",
              "       [ 7,  2, 10]])"
            ]
          },
          "metadata": {},
          "execution_count": 28
        }
      ]
    },
    {
      "cell_type": "markdown",
      "source": [
        "# Task 9"
      ],
      "metadata": {
        "id": "Ml75vIpwIucZ"
      }
    },
    {
      "cell_type": "code",
      "source": [
        "task9_1 = np.random.random(size=(4,4))\n",
        "task9_1"
      ],
      "metadata": {
        "colab": {
          "base_uri": "https://localhost:8080/"
        },
        "id": "Rid2aP2pIw52",
        "outputId": "4d422c1b-8162-4041-c692-0210f3952dec"
      },
      "execution_count": 29,
      "outputs": [
        {
          "output_type": "execute_result",
          "data": {
            "text/plain": [
              "array([[0.45685559, 0.24991001, 0.2032153 , 0.05418353],\n",
              "       [0.45169312, 0.81298432, 0.51039829, 0.77331668],\n",
              "       [0.50884956, 0.91155381, 0.09887302, 0.11900553],\n",
              "       [0.02267161, 0.93691063, 0.60611966, 0.01620785]])"
            ]
          },
          "metadata": {},
          "execution_count": 29
        }
      ]
    },
    {
      "cell_type": "code",
      "source": [
        "task9_1.T"
      ],
      "metadata": {
        "colab": {
          "base_uri": "https://localhost:8080/"
        },
        "id": "gYoyfgcZI430",
        "outputId": "f214afdf-7999-45a3-d3be-eeda7d1aea37"
      },
      "execution_count": 30,
      "outputs": [
        {
          "output_type": "execute_result",
          "data": {
            "text/plain": [
              "array([[0.45685559, 0.45169312, 0.50884956, 0.02267161],\n",
              "       [0.24991001, 0.81298432, 0.91155381, 0.93691063],\n",
              "       [0.2032153 , 0.51039829, 0.09887302, 0.60611966],\n",
              "       [0.05418353, 0.77331668, 0.11900553, 0.01620785]])"
            ]
          },
          "metadata": {},
          "execution_count": 30
        }
      ]
    },
    {
      "cell_type": "markdown",
      "source": [
        "# Task 10"
      ],
      "metadata": {
        "id": "zonZ6uyhJC94"
      }
    },
    {
      "cell_type": "code",
      "source": [
        "task10_1 = np.random.randint(1,10+1,size=(3,4))\n",
        "task10_1"
      ],
      "metadata": {
        "colab": {
          "base_uri": "https://localhost:8080/"
        },
        "id": "67vRzoFdJFl6",
        "outputId": "fb9bf82b-73cc-4c94-ac26-768ee097b666"
      },
      "execution_count": 31,
      "outputs": [
        {
          "output_type": "execute_result",
          "data": {
            "text/plain": [
              "array([[6, 6, 8, 6],\n",
              "       [5, 1, 4, 6],\n",
              "       [2, 7, 6, 5]])"
            ]
          },
          "metadata": {},
          "execution_count": 31
        }
      ]
    },
    {
      "cell_type": "code",
      "source": [
        "task10_2 = np.random.randint(1,10+1,size=(4))\n",
        "task10_2"
      ],
      "metadata": {
        "colab": {
          "base_uri": "https://localhost:8080/"
        },
        "id": "HQjHtshzJS-d",
        "outputId": "055d46fd-04b6-4e25-cd1e-a29f652ac072"
      },
      "execution_count": 32,
      "outputs": [
        {
          "output_type": "execute_result",
          "data": {
            "text/plain": [
              "array([8, 3, 2, 3])"
            ]
          },
          "metadata": {},
          "execution_count": 32
        }
      ]
    },
    {
      "cell_type": "code",
      "source": [
        "np.dot(task10_1, task10_2)"
      ],
      "metadata": {
        "colab": {
          "base_uri": "https://localhost:8080/"
        },
        "id": "EVZsF5OeJiHR",
        "outputId": "26220d8c-0b44-43f0-c30a-8ba85ea94da2"
      },
      "execution_count": 33,
      "outputs": [
        {
          "output_type": "execute_result",
          "data": {
            "text/plain": [
              "array([100,  69,  64])"
            ]
          },
          "metadata": {},
          "execution_count": 33
        }
      ]
    },
    {
      "cell_type": "markdown",
      "source": [
        "# Task 11"
      ],
      "metadata": {
        "id": "YPNEJjbLaiBt"
      }
    },
    {
      "cell_type": "code",
      "source": [
        "task11_1 = np.random.random(size=(2,3))\n",
        "task11_1"
      ],
      "metadata": {
        "colab": {
          "base_uri": "https://localhost:8080/"
        },
        "id": "yN2IQbg1bC5j",
        "outputId": "3bb02550-9aae-4fd3-a027-600aef7e8c34"
      },
      "execution_count": 34,
      "outputs": [
        {
          "output_type": "execute_result",
          "data": {
            "text/plain": [
              "array([[0.17328838, 0.95000531, 0.61480015],\n",
              "       [0.69989455, 0.82576052, 0.01945492]])"
            ]
          },
          "metadata": {},
          "execution_count": 34
        }
      ]
    },
    {
      "cell_type": "code",
      "source": [
        "task11_2 = np.random.random(size=(3))\n",
        "task11_2"
      ],
      "metadata": {
        "colab": {
          "base_uri": "https://localhost:8080/"
        },
        "id": "JtYDfeb6bl2L",
        "outputId": "75248540-db75-426b-f1f1-e948ebd9467e"
      },
      "execution_count": 35,
      "outputs": [
        {
          "output_type": "execute_result",
          "data": {
            "text/plain": [
              "array([0.85930307, 0.67284531, 0.4013015 ])"
            ]
          },
          "metadata": {},
          "execution_count": 35
        }
      ]
    },
    {
      "cell_type": "code",
      "source": [
        "np.dot(task11_1, task11_2)"
      ],
      "metadata": {
        "colab": {
          "base_uri": "https://localhost:8080/"
        },
        "id": "DrsGeiYdbxb4",
        "outputId": "bd526eb5-5d02-4885-d978-4041959e0f02"
      },
      "execution_count": 36,
      "outputs": [
        {
          "output_type": "execute_result",
          "data": {
            "text/plain": [
              "array([1.03483407, 1.16483791])"
            ]
          },
          "metadata": {},
          "execution_count": 36
        }
      ]
    },
    {
      "cell_type": "markdown",
      "source": [
        "# Task 12\n",
        "\n",
        "---\n",
        "\n"
      ],
      "metadata": {
        "id": "oLtMdg-7cxnd"
      }
    },
    {
      "cell_type": "code",
      "source": [
        "task12_1= np.random.randint(1,10+1,size=(2,2))\n",
        "task12_1"
      ],
      "metadata": {
        "colab": {
          "base_uri": "https://localhost:8080/"
        },
        "id": "4d9AdMrrczzD",
        "outputId": "e903a5ca-802a-4f64-d56e-3d4c9e0d784a"
      },
      "execution_count": 37,
      "outputs": [
        {
          "output_type": "execute_result",
          "data": {
            "text/plain": [
              "array([[ 8,  6],\n",
              "       [10,  3]])"
            ]
          },
          "metadata": {},
          "execution_count": 37
        }
      ]
    },
    {
      "cell_type": "code",
      "source": [
        "task12_2= np.random.randint(1,10+1,size=(2,2))\n",
        "task12_2"
      ],
      "metadata": {
        "colab": {
          "base_uri": "https://localhost:8080/"
        },
        "id": "v5BwuMMFc_y_",
        "outputId": "e6b08aee-3d10-4063-e912-b3c2dacc5c6c"
      },
      "execution_count": 45,
      "outputs": [
        {
          "output_type": "execute_result",
          "data": {
            "text/plain": [
              "array([[ 3,  3],\n",
              "       [10,  1]])"
            ]
          },
          "metadata": {},
          "execution_count": 45
        }
      ]
    },
    {
      "cell_type": "code",
      "source": [
        "task12_1 * task12_2"
      ],
      "metadata": {
        "colab": {
          "base_uri": "https://localhost:8080/"
        },
        "id": "r3JK31ahdDCw",
        "outputId": "b77ca698-409e-4a83-e769-29276afce831"
      },
      "execution_count": 43,
      "outputs": [
        {
          "output_type": "execute_result",
          "data": {
            "text/plain": [
              "array([[64, 12],\n",
              "       [10, 18]])"
            ]
          },
          "metadata": {},
          "execution_count": 43
        }
      ]
    },
    {
      "cell_type": "markdown",
      "source": [
        "# Task 13"
      ],
      "metadata": {
        "id": "EtVu_8lAdeW9"
      }
    },
    {
      "cell_type": "code",
      "source": [
        "task13_1= np.random.randint(1,10+1,size=(2,2))\n",
        "task13_1"
      ],
      "metadata": {
        "colab": {
          "base_uri": "https://localhost:8080/"
        },
        "id": "KKNN0pavdiHs",
        "outputId": "5dfd08ab-f7a0-470f-a5e9-6065741b9e4b"
      },
      "execution_count": 46,
      "outputs": [
        {
          "output_type": "execute_result",
          "data": {
            "text/plain": [
              "array([[ 4, 10],\n",
              "       [ 4, 10]])"
            ]
          },
          "metadata": {},
          "execution_count": 46
        }
      ]
    },
    {
      "cell_type": "code",
      "source": [
        "task13_2= np.random.randint(1,10+1,size=(2,2))\n",
        "task13_2"
      ],
      "metadata": {
        "colab": {
          "base_uri": "https://localhost:8080/"
        },
        "id": "2Ykz2wkndqB3",
        "outputId": "7870f818-5b41-4d36-e5be-880f2c0ad8f7"
      },
      "execution_count": 52,
      "outputs": [
        {
          "output_type": "execute_result",
          "data": {
            "text/plain": [
              "array([[3, 6],\n",
              "       [5, 7]])"
            ]
          },
          "metadata": {},
          "execution_count": 52
        }
      ]
    },
    {
      "cell_type": "code",
      "source": [
        "np.dot(task13_1 , task13_2)"
      ],
      "metadata": {
        "colab": {
          "base_uri": "https://localhost:8080/"
        },
        "id": "dAyOmXbkdsqm",
        "outputId": "13161f97-0813-4df9-b3ac-423cd5deaf3c"
      },
      "execution_count": 51,
      "outputs": [
        {
          "output_type": "execute_result",
          "data": {
            "text/plain": [
              "array([[78, 90],\n",
              "       [78, 90]])"
            ]
          },
          "metadata": {},
          "execution_count": 51
        }
      ]
    },
    {
      "cell_type": "markdown",
      "source": [
        "# Task 14"
      ],
      "metadata": {
        "id": "srm8aM0peAQe"
      }
    },
    {
      "cell_type": "code",
      "source": [
        "task14_1= np.random.randint(1,100+1,size=(5,5))\n",
        "task14_1"
      ],
      "metadata": {
        "colab": {
          "base_uri": "https://localhost:8080/"
        },
        "id": "nY3GeoTPeGZH",
        "outputId": "e6f0e028-df00-44ae-b959-6b4ce8a4c7eb"
      },
      "execution_count": 53,
      "outputs": [
        {
          "output_type": "execute_result",
          "data": {
            "text/plain": [
              "array([[ 17,  94,  78,  16,  51],\n",
              "       [ 96,  42,   4,   5,  97],\n",
              "       [ 96,  92,  26,  88,  55],\n",
              "       [ 86,  96,  50, 100,  60],\n",
              "       [ 12,  29,  51,  22,  76]])"
            ]
          },
          "metadata": {},
          "execution_count": 53
        }
      ]
    },
    {
      "cell_type": "code",
      "source": [
        "task14_1.sum()"
      ],
      "metadata": {
        "colab": {
          "base_uri": "https://localhost:8080/"
        },
        "id": "7YZtNyIBeNE-",
        "outputId": "e0f0145b-8e78-483b-dfca-160adf9dcf70"
      },
      "execution_count": 54,
      "outputs": [
        {
          "output_type": "execute_result",
          "data": {
            "text/plain": [
              "1439"
            ]
          },
          "metadata": {},
          "execution_count": 54
        }
      ]
    },
    {
      "cell_type": "markdown",
      "source": [
        "# Task 15\n",
        "\n",
        "---\n",
        "\n"
      ],
      "metadata": {
        "id": "tejD2wnWenw8"
      }
    },
    {
      "cell_type": "code",
      "source": [
        "task15_1= np.random.randint(1,10+1,size=(4,4))\n",
        "task15_1"
      ],
      "metadata": {
        "colab": {
          "base_uri": "https://localhost:8080/"
        },
        "outputId": "2a11bbd0-956b-455e-9118-89df823243ee",
        "id": "aGtyDjnrenxH"
      },
      "execution_count": 55,
      "outputs": [
        {
          "output_type": "execute_result",
          "data": {
            "text/plain": [
              "array([[ 3,  7,  6,  9],\n",
              "       [ 1, 10,  5, 10],\n",
              "       [ 7,  5,  4,  1],\n",
              "       [ 1,  4,  6,  5]])"
            ]
          },
          "metadata": {},
          "execution_count": 55
        }
      ]
    },
    {
      "cell_type": "code",
      "source": [
        "task15_2= np.random.randint(1,10+1,size=(4,4))\n",
        "task15_2"
      ],
      "metadata": {
        "colab": {
          "base_uri": "https://localhost:8080/"
        },
        "outputId": "f18a4580-c342-4ab3-f3e9-9c087a52a8d7",
        "id": "vZMHp8ywenxK"
      },
      "execution_count": 56,
      "outputs": [
        {
          "output_type": "execute_result",
          "data": {
            "text/plain": [
              "array([[ 8, 10,  2, 10],\n",
              "       [ 2,  9,  7, 10],\n",
              "       [ 5,  2,  1,  5],\n",
              "       [ 7,  6,  4,  9]])"
            ]
          },
          "metadata": {},
          "execution_count": 56
        }
      ]
    },
    {
      "cell_type": "code",
      "source": [
        "task15_1 - task15_2"
      ],
      "metadata": {
        "colab": {
          "base_uri": "https://localhost:8080/"
        },
        "outputId": "9e2d95ab-e9c9-4a7e-e960-a2827799b86d",
        "id": "8-qA01-genxM"
      },
      "execution_count": 58,
      "outputs": [
        {
          "output_type": "execute_result",
          "data": {
            "text/plain": [
              "array([[-5, -3,  4, -1],\n",
              "       [-1,  1, -2,  0],\n",
              "       [ 2,  3,  3, -4],\n",
              "       [-6, -2,  2, -4]])"
            ]
          },
          "metadata": {},
          "execution_count": 58
        }
      ]
    },
    {
      "cell_type": "markdown",
      "source": [
        "# Task 16"
      ],
      "metadata": {
        "id": "rFKbDRAifDnT"
      }
    },
    {
      "cell_type": "code",
      "source": [
        "task16_1 = np.random.random(size=(3,3))\n",
        "task16_1"
      ],
      "metadata": {
        "colab": {
          "base_uri": "https://localhost:8080/"
        },
        "outputId": "c1d509d2-214b-468b-a595-0b71190f972d",
        "id": "9SYh1WzffDnY"
      },
      "execution_count": 85,
      "outputs": [
        {
          "output_type": "execute_result",
          "data": {
            "text/plain": [
              "array([[0.93498602, 0.00446034, 0.75066141],\n",
              "       [0.56492146, 0.30573071, 0.59035059],\n",
              "       [0.91820387, 0.94746311, 0.51810113]])"
            ]
          },
          "metadata": {},
          "execution_count": 85
        }
      ]
    },
    {
      "cell_type": "code",
      "source": [
        "task16_1[0]"
      ],
      "metadata": {
        "colab": {
          "base_uri": "https://localhost:8080/"
        },
        "id": "5IKJt1pakMea",
        "outputId": "b668ebec-dc0a-4a49-96ca-a6754d0aaa88"
      },
      "execution_count": 93,
      "outputs": [
        {
          "output_type": "execute_result",
          "data": {
            "text/plain": [
              "array([0.93498602, 0.00446034, 0.75066141])"
            ]
          },
          "metadata": {},
          "execution_count": 93
        }
      ]
    },
    {
      "cell_type": "code",
      "source": [
        "task16_1[0].sum()"
      ],
      "metadata": {
        "colab": {
          "base_uri": "https://localhost:8080/"
        },
        "id": "yak-SmK1kQWk",
        "outputId": "43f3cf5c-4b87-47b5-e619-311b70edf9a9"
      },
      "execution_count": 94,
      "outputs": [
        {
          "output_type": "execute_result",
          "data": {
            "text/plain": [
              "1.6901077624157637"
            ]
          },
          "metadata": {},
          "execution_count": 94
        }
      ]
    },
    {
      "cell_type": "code",
      "source": [
        "task_16 = np.array([ task16_1[i].sum() for i in range( task16_1.shape[0])])\n",
        "task_16\n"
      ],
      "metadata": {
        "colab": {
          "base_uri": "https://localhost:8080/"
        },
        "id": "WTYJzLnmfKXj",
        "outputId": "30818b2b-1f1f-4060-df71-998c73099722"
      },
      "execution_count": 95,
      "outputs": [
        {
          "output_type": "execute_result",
          "data": {
            "text/plain": [
              "array([1.69010776, 1.46100276, 2.38376811])"
            ]
          },
          "metadata": {},
          "execution_count": 95
        }
      ]
    },
    {
      "cell_type": "code",
      "source": [
        "task16_1.sum(axis=1)"
      ],
      "metadata": {
        "colab": {
          "base_uri": "https://localhost:8080/"
        },
        "id": "zr4eh1E6j7d5",
        "outputId": "07655f00-2abb-469f-8fa0-8eca15ff4499"
      },
      "execution_count": 96,
      "outputs": [
        {
          "output_type": "execute_result",
          "data": {
            "text/plain": [
              "array([1.69010776, 1.46100276, 2.38376811])"
            ]
          },
          "metadata": {},
          "execution_count": 96
        }
      ]
    },
    {
      "cell_type": "markdown",
      "source": [
        "# Task 17"
      ],
      "metadata": {
        "id": "VbjkCzQnjORT"
      }
    },
    {
      "cell_type": "code",
      "source": [
        "task17_1 = np.random.randint(1,10+1,size=(3,4))\n",
        "task17_1"
      ],
      "metadata": {
        "colab": {
          "base_uri": "https://localhost:8080/"
        },
        "outputId": "b3835cf1-d5e7-4fef-b387-98751748f9f5",
        "id": "FD4Z9sCvjORX"
      },
      "execution_count": 100,
      "outputs": [
        {
          "output_type": "execute_result",
          "data": {
            "text/plain": [
              "array([[ 7,  1,  8, 10],\n",
              "       [ 4,  2,  7,  7],\n",
              "       [ 8,  6,  3,  8]])"
            ]
          },
          "metadata": {},
          "execution_count": 100
        }
      ]
    },
    {
      "cell_type": "code",
      "source": [
        "task17_2 = np.square(task17_1)\n",
        "task17_2\n"
      ],
      "metadata": {
        "colab": {
          "base_uri": "https://localhost:8080/"
        },
        "id": "c9Imt2Hrkzra",
        "outputId": "91305035-4cae-450e-d85b-10fe1d2b883c"
      },
      "execution_count": 99,
      "outputs": [
        {
          "output_type": "execute_result",
          "data": {
            "text/plain": [
              "array([[ 49,   4,  49,  81],\n",
              "       [ 81,   1,  25,  36],\n",
              "       [  1,  16,  81, 100]])"
            ]
          },
          "metadata": {},
          "execution_count": 99
        }
      ]
    },
    {
      "cell_type": "markdown",
      "source": [
        "# Task 18"
      ],
      "metadata": {
        "id": "uuMYGlX5lC32"
      }
    },
    {
      "cell_type": "code",
      "source": [
        "task18_1 = np.random.randint(1,50+1,size=(4))\n",
        "task18_1"
      ],
      "metadata": {
        "colab": {
          "base_uri": "https://localhost:8080/"
        },
        "id": "l-B5vqUIlFYA",
        "outputId": "e2650a5a-9098-437d-98ff-522d76f48a3d"
      },
      "execution_count": 102,
      "outputs": [
        {
          "output_type": "execute_result",
          "data": {
            "text/plain": [
              "array([46, 38, 22, 22])"
            ]
          },
          "metadata": {},
          "execution_count": 102
        }
      ]
    },
    {
      "cell_type": "code",
      "source": [
        "np.sqrt(task18_1)"
      ],
      "metadata": {
        "colab": {
          "base_uri": "https://localhost:8080/"
        },
        "id": "Fk3uUNVqlRgq",
        "outputId": "947b2fa5-2567-40e4-b50b-0620cace4482"
      },
      "execution_count": 105,
      "outputs": [
        {
          "output_type": "execute_result",
          "data": {
            "text/plain": [
              "array([6.78232998, 6.164414  , 4.69041576, 4.69041576])"
            ]
          },
          "metadata": {},
          "execution_count": 105
        }
      ]
    },
    {
      "cell_type": "code",
      "source": [
        "np.power(task18_1, 0.5)"
      ],
      "metadata": {
        "colab": {
          "base_uri": "https://localhost:8080/"
        },
        "id": "hTRubEivl1ER",
        "outputId": "6b7c8e48-6ea7-4569-be25-d3c2b7eccf2b"
      },
      "execution_count": 106,
      "outputs": [
        {
          "output_type": "execute_result",
          "data": {
            "text/plain": [
              "array([6.78232998, 6.164414  , 4.69041576, 4.69041576])"
            ]
          },
          "metadata": {},
          "execution_count": 106
        }
      ]
    }
  ]
}